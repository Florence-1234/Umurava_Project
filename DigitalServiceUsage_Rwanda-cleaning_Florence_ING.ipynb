{
 "cells": [
  {
   "cell_type": "code",
   "execution_count": 2,
   "metadata": {},
   "outputs": [],
   "source": [
    "import pandas as pd\n",
    "import numpy as np\n",
    "# Load dataset\n",
    "df = pd.read_csv(\"C:/Users/SMRC/Downloads/DigitalServiceUsage_Rwanda.csv\")"
   ]
  },
  {
   "cell_type": "code",
   "execution_count": 3,
   "metadata": {},
   "outputs": [
    {
     "name": "stdout",
     "output_type": "stream",
     "text": [
      "<class 'pandas.core.frame.DataFrame'>\n",
      "RangeIndex: 1025 entries, 0 to 1024\n",
      "Data columns (total 7 columns):\n",
      " #   Column                  Non-Null Count  Dtype  \n",
      "---  ------                  --------------  -----  \n",
      " 0   District                1025 non-null   object \n",
      " 1   Service_Name            1025 non-null   object \n",
      " 2   Department              1025 non-null   object \n",
      " 3   Users_Reported          501 non-null    float64\n",
      " 4   Satisfaction_Score_(%)  510 non-null    float64\n",
      " 5   Year                    1025 non-null   int64  \n",
      " 6   Month                   937 non-null    object \n",
      "dtypes: float64(2), int64(1), object(4)\n",
      "memory usage: 56.2+ KB\n",
      "None\n"
     ]
    }
   ],
   "source": [
    "# lets understand the nature of the data\n",
    "print(df.info())"
   ]
  },
  {
   "cell_type": "code",
   "execution_count": 4,
   "metadata": {},
   "outputs": [
    {
     "data": {
      "text/html": [
       "<div>\n",
       "<style scoped>\n",
       "    .dataframe tbody tr th:only-of-type {\n",
       "        vertical-align: middle;\n",
       "    }\n",
       "\n",
       "    .dataframe tbody tr th {\n",
       "        vertical-align: top;\n",
       "    }\n",
       "\n",
       "    .dataframe thead th {\n",
       "        text-align: right;\n",
       "    }\n",
       "</style>\n",
       "<table border=\"1\" class=\"dataframe\">\n",
       "  <thead>\n",
       "    <tr style=\"text-align: right;\">\n",
       "      <th></th>\n",
       "      <th>District</th>\n",
       "      <th>Service_Name</th>\n",
       "      <th>Department</th>\n",
       "      <th>Users_Reported</th>\n",
       "      <th>Satisfaction_Score_(%)</th>\n",
       "      <th>Year</th>\n",
       "      <th>Month</th>\n",
       "    </tr>\n",
       "  </thead>\n",
       "  <tbody>\n",
       "    <tr>\n",
       "      <th>0</th>\n",
       "      <td>Musanze</td>\n",
       "      <td>eTax Portal</td>\n",
       "      <td>Ministry of Health</td>\n",
       "      <td>910.0</td>\n",
       "      <td>NaN</td>\n",
       "      <td>2022</td>\n",
       "      <td>Unknown</td>\n",
       "    </tr>\n",
       "    <tr>\n",
       "      <th>1</th>\n",
       "      <td>Gasabo</td>\n",
       "      <td>Land Registration Portal</td>\n",
       "      <td>Immigration Department</td>\n",
       "      <td>3822.0</td>\n",
       "      <td>93.6</td>\n",
       "      <td>2023</td>\n",
       "      <td>Dec</td>\n",
       "    </tr>\n",
       "    <tr>\n",
       "      <th>2</th>\n",
       "      <td>Rusizi</td>\n",
       "      <td>eTax Portal</td>\n",
       "      <td>Rwanda Revenue Authority</td>\n",
       "      <td>516.0</td>\n",
       "      <td>82.9</td>\n",
       "      <td>2024</td>\n",
       "      <td>Mar</td>\n",
       "    </tr>\n",
       "    <tr>\n",
       "      <th>3</th>\n",
       "      <td>Nyagatare</td>\n",
       "      <td>E-Visa Service</td>\n",
       "      <td>Ministry of ICT</td>\n",
       "      <td>4476.0</td>\n",
       "      <td>NaN</td>\n",
       "      <td>2024</td>\n",
       "      <td>Jun</td>\n",
       "    </tr>\n",
       "    <tr>\n",
       "      <th>4</th>\n",
       "      <td>Nyagatare</td>\n",
       "      <td>Digital Health Records</td>\n",
       "      <td>Rwanda Revenue Authority</td>\n",
       "      <td>NaN</td>\n",
       "      <td>NaN</td>\n",
       "      <td>2023</td>\n",
       "      <td>May</td>\n",
       "    </tr>\n",
       "  </tbody>\n",
       "</table>\n",
       "</div>"
      ],
      "text/plain": [
       "    District              Service_Name                Department  \\\n",
       "0    Musanze               eTax Portal        Ministry of Health   \n",
       "1     Gasabo  Land Registration Portal    Immigration Department   \n",
       "2     Rusizi               eTax Portal  Rwanda Revenue Authority   \n",
       "3  Nyagatare            E-Visa Service           Ministry of ICT   \n",
       "4  Nyagatare    Digital Health Records  Rwanda Revenue Authority   \n",
       "\n",
       "   Users_Reported  Satisfaction_Score_(%)  Year    Month  \n",
       "0           910.0                     NaN  2022  Unknown  \n",
       "1          3822.0                    93.6  2023      Dec  \n",
       "2           516.0                    82.9  2024      Mar  \n",
       "3          4476.0                     NaN  2024      Jun  \n",
       "4             NaN                     NaN  2023      May  "
      ]
     },
     "execution_count": 4,
     "metadata": {},
     "output_type": "execute_result"
    }
   ],
   "source": [
    "df.head()"
   ]
  },
  {
   "cell_type": "code",
   "execution_count": 5,
   "metadata": {},
   "outputs": [
    {
     "data": {
      "text/html": [
       "<div>\n",
       "<style scoped>\n",
       "    .dataframe tbody tr th:only-of-type {\n",
       "        vertical-align: middle;\n",
       "    }\n",
       "\n",
       "    .dataframe tbody tr th {\n",
       "        vertical-align: top;\n",
       "    }\n",
       "\n",
       "    .dataframe thead th {\n",
       "        text-align: right;\n",
       "    }\n",
       "</style>\n",
       "<table border=\"1\" class=\"dataframe\">\n",
       "  <thead>\n",
       "    <tr style=\"text-align: right;\">\n",
       "      <th></th>\n",
       "      <th>District</th>\n",
       "      <th>Service_Name</th>\n",
       "      <th>Department</th>\n",
       "      <th>Users_Reported</th>\n",
       "      <th>Satisfaction_Score_(%)</th>\n",
       "      <th>Year</th>\n",
       "      <th>Month</th>\n",
       "    </tr>\n",
       "  </thead>\n",
       "  <tbody>\n",
       "    <tr>\n",
       "      <th>1020</th>\n",
       "      <td>Kayonza</td>\n",
       "      <td>Land Registration Portal</td>\n",
       "      <td>Rwanda Revenue Authority</td>\n",
       "      <td>1115.0</td>\n",
       "      <td>NaN</td>\n",
       "      <td>2022</td>\n",
       "      <td>Sep</td>\n",
       "    </tr>\n",
       "    <tr>\n",
       "      <th>1021</th>\n",
       "      <td>Nyagatare</td>\n",
       "      <td>E-Visa Service</td>\n",
       "      <td>Ministry of ICT</td>\n",
       "      <td>1009.0</td>\n",
       "      <td>84.8</td>\n",
       "      <td>2023</td>\n",
       "      <td>Jan</td>\n",
       "    </tr>\n",
       "    <tr>\n",
       "      <th>1022</th>\n",
       "      <td>Rwamagana</td>\n",
       "      <td>Irembo Services</td>\n",
       "      <td>Rwanda Revenue Authority</td>\n",
       "      <td>NaN</td>\n",
       "      <td>78.9</td>\n",
       "      <td>2024</td>\n",
       "      <td>May</td>\n",
       "    </tr>\n",
       "    <tr>\n",
       "      <th>1023</th>\n",
       "      <td>Nyarugenge</td>\n",
       "      <td>Irembo Services</td>\n",
       "      <td>Ministry of Health</td>\n",
       "      <td>370.0</td>\n",
       "      <td>NaN</td>\n",
       "      <td>2023</td>\n",
       "      <td>Oct</td>\n",
       "    </tr>\n",
       "    <tr>\n",
       "      <th>1024</th>\n",
       "      <td>Kicukiro</td>\n",
       "      <td>eTax Portal</td>\n",
       "      <td>Ministry of Health</td>\n",
       "      <td>NaN</td>\n",
       "      <td>77.0</td>\n",
       "      <td>2021</td>\n",
       "      <td>Nov</td>\n",
       "    </tr>\n",
       "  </tbody>\n",
       "</table>\n",
       "</div>"
      ],
      "text/plain": [
       "        District              Service_Name                Department  \\\n",
       "1020     Kayonza  Land Registration Portal  Rwanda Revenue Authority   \n",
       "1021   Nyagatare            E-Visa Service           Ministry of ICT   \n",
       "1022   Rwamagana           Irembo Services  Rwanda Revenue Authority   \n",
       "1023  Nyarugenge           Irembo Services        Ministry of Health   \n",
       "1024    Kicukiro               eTax Portal        Ministry of Health   \n",
       "\n",
       "      Users_Reported  Satisfaction_Score_(%)  Year Month  \n",
       "1020          1115.0                     NaN  2022   Sep  \n",
       "1021          1009.0                    84.8  2023   Jan  \n",
       "1022             NaN                    78.9  2024   May  \n",
       "1023           370.0                     NaN  2023   Oct  \n",
       "1024             NaN                    77.0  2021   Nov  "
      ]
     },
     "execution_count": 5,
     "metadata": {},
     "output_type": "execute_result"
    }
   ],
   "source": [
    "df.tail()"
   ]
  },
  {
   "cell_type": "code",
   "execution_count": 6,
   "metadata": {},
   "outputs": [
    {
     "data": {
      "text/html": [
       "<div>\n",
       "<style scoped>\n",
       "    .dataframe tbody tr th:only-of-type {\n",
       "        vertical-align: middle;\n",
       "    }\n",
       "\n",
       "    .dataframe tbody tr th {\n",
       "        vertical-align: top;\n",
       "    }\n",
       "\n",
       "    .dataframe thead th {\n",
       "        text-align: right;\n",
       "    }\n",
       "</style>\n",
       "<table border=\"1\" class=\"dataframe\">\n",
       "  <thead>\n",
       "    <tr style=\"text-align: right;\">\n",
       "      <th></th>\n",
       "      <th>Users_Reported</th>\n",
       "      <th>Satisfaction_Score_(%)</th>\n",
       "      <th>Year</th>\n",
       "    </tr>\n",
       "  </thead>\n",
       "  <tbody>\n",
       "    <tr>\n",
       "      <th>count</th>\n",
       "      <td>501.000000</td>\n",
       "      <td>510.000000</td>\n",
       "      <td>1025.000000</td>\n",
       "    </tr>\n",
       "    <tr>\n",
       "      <th>mean</th>\n",
       "      <td>2524.217565</td>\n",
       "      <td>75.161569</td>\n",
       "      <td>2022.437073</td>\n",
       "    </tr>\n",
       "    <tr>\n",
       "      <th>std</th>\n",
       "      <td>1431.196236</td>\n",
       "      <td>14.497803</td>\n",
       "      <td>1.119863</td>\n",
       "    </tr>\n",
       "    <tr>\n",
       "      <th>min</th>\n",
       "      <td>51.000000</td>\n",
       "      <td>50.100000</td>\n",
       "      <td>2021.000000</td>\n",
       "    </tr>\n",
       "    <tr>\n",
       "      <th>25%</th>\n",
       "      <td>1268.000000</td>\n",
       "      <td>62.300000</td>\n",
       "      <td>2021.000000</td>\n",
       "    </tr>\n",
       "    <tr>\n",
       "      <th>50%</th>\n",
       "      <td>2447.000000</td>\n",
       "      <td>75.450000</td>\n",
       "      <td>2022.000000</td>\n",
       "    </tr>\n",
       "    <tr>\n",
       "      <th>75%</th>\n",
       "      <td>3798.000000</td>\n",
       "      <td>87.700000</td>\n",
       "      <td>2023.000000</td>\n",
       "    </tr>\n",
       "    <tr>\n",
       "      <th>max</th>\n",
       "      <td>4983.000000</td>\n",
       "      <td>100.000000</td>\n",
       "      <td>2024.000000</td>\n",
       "    </tr>\n",
       "  </tbody>\n",
       "</table>\n",
       "</div>"
      ],
      "text/plain": [
       "       Users_Reported  Satisfaction_Score_(%)         Year\n",
       "count      501.000000              510.000000  1025.000000\n",
       "mean      2524.217565               75.161569  2022.437073\n",
       "std       1431.196236               14.497803     1.119863\n",
       "min         51.000000               50.100000  2021.000000\n",
       "25%       1268.000000               62.300000  2021.000000\n",
       "50%       2447.000000               75.450000  2022.000000\n",
       "75%       3798.000000               87.700000  2023.000000\n",
       "max       4983.000000              100.000000  2024.000000"
      ]
     },
     "execution_count": 6,
     "metadata": {},
     "output_type": "execute_result"
    }
   ],
   "source": [
    "df.describe()"
   ]
  },
  {
   "cell_type": "code",
   "execution_count": 7,
   "metadata": {},
   "outputs": [
    {
     "name": "stdout",
     "output_type": "stream",
     "text": [
      "District                    0\n",
      "Service_Name                0\n",
      "Department                  0\n",
      "Users_Reported            524\n",
      "Satisfaction_Score_(%)    515\n",
      "Year                        0\n",
      "Month                      88\n",
      "dtype: int64\n"
     ]
    }
   ],
   "source": [
    "# Checking for missing values\n",
    "print(df.isnull().sum())"
   ]
  },
  {
   "cell_type": "markdown",
   "metadata": {},
   "source": [
    "We observe that Users_Reported is missing 524 values while Satisfaction_Score_(%) attribute miss 515. Since these attributes are considered important in analysis, the analysis decided to fill the missing values with median since they are continous in nature."
   ]
  },
  {
   "cell_type": "code",
   "execution_count": 8,
   "metadata": {},
   "outputs": [],
   "source": [
    "df['Users_Reported'].fillna(df['Users_Reported'].median(), inplace=True)\n",
    "df['Satisfaction_Score_(%)'].fillna(df['Satisfaction_Score_(%)'].median(), inplace=True)"
   ]
  },
  {
   "cell_type": "code",
   "execution_count": 10,
   "metadata": {},
   "outputs": [
    {
     "name": "stdout",
     "output_type": "stream",
     "text": [
      "District                   0\n",
      "Service_Name               0\n",
      "Department                 0\n",
      "Users_Reported             0\n",
      "Satisfaction_Score_(%)     0\n",
      "Year                       0\n",
      "Month                     88\n",
      "dtype: int64\n"
     ]
    }
   ],
   "source": [
    "print(df.isnull().sum())"
   ]
  },
  {
   "cell_type": "markdown",
   "metadata": {},
   "source": [
    "we observe that the month attribute still have missing values. it needs to be handled indipendently. we start by checking its format"
   ]
  },
  {
   "cell_type": "code",
   "execution_count": 11,
   "metadata": {},
   "outputs": [
    {
     "data": {
      "text/plain": [
       "array(['Unknown', 'Dec', 'Mar', 'Jun', 'May', 'Aug', nan, 'Apr', 'Sep',\n",
       "       'Feb', 'Jan', 'Nov', 'Jul', 'Oct'], dtype=object)"
      ]
     },
     "execution_count": 11,
     "metadata": {},
     "output_type": "execute_result"
    }
   ],
   "source": [
    "df['Month'].unique()"
   ]
  },
  {
   "cell_type": "markdown",
   "metadata": {},
   "source": [
    "lets hanlde inconsistancies and then Fill by Related Group"
   ]
  },
  {
   "cell_type": "code",
   "execution_count": 12,
   "metadata": {},
   "outputs": [],
   "source": [
    "df['Month'] = df['Month'].str.strip().str.title()"
   ]
  },
  {
   "cell_type": "code",
   "execution_count": 13,
   "metadata": {},
   "outputs": [],
   "source": [
    "df['Month'] = df.groupby('District')['Month'].transform(\n",
    "    lambda x: x.fillna(x.mode()[0] if not x.mode().empty else 'Unknown')\n",
    ")"
   ]
  },
  {
   "cell_type": "code",
   "execution_count": 14,
   "metadata": {},
   "outputs": [
    {
     "name": "stdout",
     "output_type": "stream",
     "text": [
      "District                  0\n",
      "Service_Name              0\n",
      "Department                0\n",
      "Users_Reported            0\n",
      "Satisfaction_Score_(%)    0\n",
      "Year                      0\n",
      "Month                     0\n",
      "dtype: int64\n"
     ]
    }
   ],
   "source": [
    "print(df.isnull().sum())"
   ]
  },
  {
   "cell_type": "markdown",
   "metadata": {},
   "source": [
    "The above output shows that all the missing values have been handled"
   ]
  },
  {
   "cell_type": "code",
   "execution_count": 15,
   "metadata": {},
   "outputs": [
    {
     "name": "stdout",
     "output_type": "stream",
     "text": [
      "25\n"
     ]
    }
   ],
   "source": [
    "# lets check duplicated values\n",
    "print(df.duplicated().sum())"
   ]
  },
  {
   "cell_type": "markdown",
   "metadata": {},
   "source": [
    "We find that there are 25 duplicates in this dataset"
   ]
  },
  {
   "cell_type": "code",
   "execution_count": 17,
   "metadata": {},
   "outputs": [
    {
     "data": {
      "text/html": [
       "<div>\n",
       "<style scoped>\n",
       "    .dataframe tbody tr th:only-of-type {\n",
       "        vertical-align: middle;\n",
       "    }\n",
       "\n",
       "    .dataframe tbody tr th {\n",
       "        vertical-align: top;\n",
       "    }\n",
       "\n",
       "    .dataframe thead th {\n",
       "        text-align: right;\n",
       "    }\n",
       "</style>\n",
       "<table border=\"1\" class=\"dataframe\">\n",
       "  <thead>\n",
       "    <tr style=\"text-align: right;\">\n",
       "      <th></th>\n",
       "      <th>District</th>\n",
       "      <th>Service_Name</th>\n",
       "      <th>Department</th>\n",
       "      <th>Users_Reported</th>\n",
       "      <th>Satisfaction_Score_(%)</th>\n",
       "      <th>Year</th>\n",
       "      <th>Month</th>\n",
       "    </tr>\n",
       "  </thead>\n",
       "  <tbody>\n",
       "    <tr>\n",
       "      <th>1000</th>\n",
       "      <td>Rubavu</td>\n",
       "      <td>Land Registration Portal</td>\n",
       "      <td>Ministry of Lands</td>\n",
       "      <td>2447.0</td>\n",
       "      <td>68.20</td>\n",
       "      <td>2021</td>\n",
       "      <td>Mar</td>\n",
       "    </tr>\n",
       "    <tr>\n",
       "      <th>1001</th>\n",
       "      <td>Kayonza</td>\n",
       "      <td>Irembo Services</td>\n",
       "      <td>Ministry of Health</td>\n",
       "      <td>1290.0</td>\n",
       "      <td>99.70</td>\n",
       "      <td>2022</td>\n",
       "      <td>Jun</td>\n",
       "    </tr>\n",
       "    <tr>\n",
       "      <th>1002</th>\n",
       "      <td>Gakenke</td>\n",
       "      <td>E-Visa Service</td>\n",
       "      <td>Ministry of Health</td>\n",
       "      <td>2447.0</td>\n",
       "      <td>69.50</td>\n",
       "      <td>2022</td>\n",
       "      <td>Unknown</td>\n",
       "    </tr>\n",
       "    <tr>\n",
       "      <th>1003</th>\n",
       "      <td>Rusizi</td>\n",
       "      <td>eTax Portal</td>\n",
       "      <td>Rwanda Revenue Authority</td>\n",
       "      <td>4458.0</td>\n",
       "      <td>75.45</td>\n",
       "      <td>2024</td>\n",
       "      <td>Mar</td>\n",
       "    </tr>\n",
       "    <tr>\n",
       "      <th>1004</th>\n",
       "      <td>Nyanza</td>\n",
       "      <td>E-Visa Service</td>\n",
       "      <td>Ministry of ICT</td>\n",
       "      <td>2447.0</td>\n",
       "      <td>75.45</td>\n",
       "      <td>2023</td>\n",
       "      <td>Jul</td>\n",
       "    </tr>\n",
       "    <tr>\n",
       "      <th>1005</th>\n",
       "      <td>Nyarugenge</td>\n",
       "      <td>Online Business Registration</td>\n",
       "      <td>Ministry of Health</td>\n",
       "      <td>2447.0</td>\n",
       "      <td>54.00</td>\n",
       "      <td>2021</td>\n",
       "      <td>Feb</td>\n",
       "    </tr>\n",
       "    <tr>\n",
       "      <th>1006</th>\n",
       "      <td>Karongi</td>\n",
       "      <td>E-Visa Service</td>\n",
       "      <td>Ministry of Health</td>\n",
       "      <td>4855.0</td>\n",
       "      <td>80.40</td>\n",
       "      <td>2022</td>\n",
       "      <td>Oct</td>\n",
       "    </tr>\n",
       "    <tr>\n",
       "      <th>1007</th>\n",
       "      <td>Nyarugenge</td>\n",
       "      <td>Digital Health Records</td>\n",
       "      <td>Immigration Department</td>\n",
       "      <td>2447.0</td>\n",
       "      <td>67.80</td>\n",
       "      <td>2021</td>\n",
       "      <td>Jul</td>\n",
       "    </tr>\n",
       "    <tr>\n",
       "      <th>1008</th>\n",
       "      <td>Rulindo</td>\n",
       "      <td>Irembo Services</td>\n",
       "      <td>Ministry of Health</td>\n",
       "      <td>3980.0</td>\n",
       "      <td>75.45</td>\n",
       "      <td>2023</td>\n",
       "      <td>Mar</td>\n",
       "    </tr>\n",
       "    <tr>\n",
       "      <th>1009</th>\n",
       "      <td>Bugesera</td>\n",
       "      <td>eTax Portal</td>\n",
       "      <td>Ministry of Lands</td>\n",
       "      <td>2447.0</td>\n",
       "      <td>75.45</td>\n",
       "      <td>2022</td>\n",
       "      <td>Mar</td>\n",
       "    </tr>\n",
       "    <tr>\n",
       "      <th>1010</th>\n",
       "      <td>Karongi</td>\n",
       "      <td>Irembo Services</td>\n",
       "      <td>Ministry of Lands</td>\n",
       "      <td>2447.0</td>\n",
       "      <td>94.20</td>\n",
       "      <td>2022</td>\n",
       "      <td>Jun</td>\n",
       "    </tr>\n",
       "    <tr>\n",
       "      <th>1011</th>\n",
       "      <td>Kicukiro</td>\n",
       "      <td>E-Visa Service</td>\n",
       "      <td>Ministry of ICT</td>\n",
       "      <td>613.0</td>\n",
       "      <td>75.45</td>\n",
       "      <td>2021</td>\n",
       "      <td>Mar</td>\n",
       "    </tr>\n",
       "    <tr>\n",
       "      <th>1012</th>\n",
       "      <td>Rwamagana</td>\n",
       "      <td>E-Visa Service</td>\n",
       "      <td>Ministry of Lands</td>\n",
       "      <td>4472.0</td>\n",
       "      <td>53.50</td>\n",
       "      <td>2021</td>\n",
       "      <td>Oct</td>\n",
       "    </tr>\n",
       "    <tr>\n",
       "      <th>1013</th>\n",
       "      <td>Bugesera</td>\n",
       "      <td>E-Visa Service</td>\n",
       "      <td>Ministry of Lands</td>\n",
       "      <td>2447.0</td>\n",
       "      <td>75.45</td>\n",
       "      <td>2023</td>\n",
       "      <td>Mar</td>\n",
       "    </tr>\n",
       "    <tr>\n",
       "      <th>1014</th>\n",
       "      <td>Nyanza</td>\n",
       "      <td>Land Registration Portal</td>\n",
       "      <td>Ministry of Health</td>\n",
       "      <td>2447.0</td>\n",
       "      <td>75.45</td>\n",
       "      <td>2024</td>\n",
       "      <td>Aug</td>\n",
       "    </tr>\n",
       "    <tr>\n",
       "      <th>1015</th>\n",
       "      <td>Rusizi</td>\n",
       "      <td>Digital Health Records</td>\n",
       "      <td>Ministry of Lands</td>\n",
       "      <td>2447.0</td>\n",
       "      <td>79.00</td>\n",
       "      <td>2021</td>\n",
       "      <td>Unknown</td>\n",
       "    </tr>\n",
       "    <tr>\n",
       "      <th>1016</th>\n",
       "      <td>Rusizi</td>\n",
       "      <td>Digital Health Records</td>\n",
       "      <td>Ministry of Lands</td>\n",
       "      <td>2447.0</td>\n",
       "      <td>75.45</td>\n",
       "      <td>2023</td>\n",
       "      <td>Dec</td>\n",
       "    </tr>\n",
       "    <tr>\n",
       "      <th>1017</th>\n",
       "      <td>Kayonza</td>\n",
       "      <td>Irembo Services</td>\n",
       "      <td>Ministry of Lands</td>\n",
       "      <td>2447.0</td>\n",
       "      <td>75.45</td>\n",
       "      <td>2023</td>\n",
       "      <td>Nov</td>\n",
       "    </tr>\n",
       "    <tr>\n",
       "      <th>1018</th>\n",
       "      <td>Musanze</td>\n",
       "      <td>E-Visa Service</td>\n",
       "      <td>Ministry of Health</td>\n",
       "      <td>4856.0</td>\n",
       "      <td>57.40</td>\n",
       "      <td>2024</td>\n",
       "      <td>Jun</td>\n",
       "    </tr>\n",
       "    <tr>\n",
       "      <th>1019</th>\n",
       "      <td>Rubavu</td>\n",
       "      <td>Digital Health Records</td>\n",
       "      <td>Ministry of ICT</td>\n",
       "      <td>2447.0</td>\n",
       "      <td>75.45</td>\n",
       "      <td>2021</td>\n",
       "      <td>Aug</td>\n",
       "    </tr>\n",
       "    <tr>\n",
       "      <th>1020</th>\n",
       "      <td>Kayonza</td>\n",
       "      <td>Land Registration Portal</td>\n",
       "      <td>Rwanda Revenue Authority</td>\n",
       "      <td>1115.0</td>\n",
       "      <td>75.45</td>\n",
       "      <td>2022</td>\n",
       "      <td>Sep</td>\n",
       "    </tr>\n",
       "    <tr>\n",
       "      <th>1021</th>\n",
       "      <td>Nyagatare</td>\n",
       "      <td>E-Visa Service</td>\n",
       "      <td>Ministry of ICT</td>\n",
       "      <td>1009.0</td>\n",
       "      <td>84.80</td>\n",
       "      <td>2023</td>\n",
       "      <td>Jan</td>\n",
       "    </tr>\n",
       "    <tr>\n",
       "      <th>1022</th>\n",
       "      <td>Rwamagana</td>\n",
       "      <td>Irembo Services</td>\n",
       "      <td>Rwanda Revenue Authority</td>\n",
       "      <td>2447.0</td>\n",
       "      <td>78.90</td>\n",
       "      <td>2024</td>\n",
       "      <td>May</td>\n",
       "    </tr>\n",
       "    <tr>\n",
       "      <th>1023</th>\n",
       "      <td>Nyarugenge</td>\n",
       "      <td>Irembo Services</td>\n",
       "      <td>Ministry of Health</td>\n",
       "      <td>370.0</td>\n",
       "      <td>75.45</td>\n",
       "      <td>2023</td>\n",
       "      <td>Oct</td>\n",
       "    </tr>\n",
       "    <tr>\n",
       "      <th>1024</th>\n",
       "      <td>Kicukiro</td>\n",
       "      <td>eTax Portal</td>\n",
       "      <td>Ministry of Health</td>\n",
       "      <td>2447.0</td>\n",
       "      <td>77.00</td>\n",
       "      <td>2021</td>\n",
       "      <td>Nov</td>\n",
       "    </tr>\n",
       "  </tbody>\n",
       "</table>\n",
       "</div>"
      ],
      "text/plain": [
       "        District                  Service_Name                Department  \\\n",
       "1000      Rubavu      Land Registration Portal         Ministry of Lands   \n",
       "1001     Kayonza               Irembo Services        Ministry of Health   \n",
       "1002     Gakenke                E-Visa Service        Ministry of Health   \n",
       "1003      Rusizi                   eTax Portal  Rwanda Revenue Authority   \n",
       "1004      Nyanza                E-Visa Service           Ministry of ICT   \n",
       "1005  Nyarugenge  Online Business Registration        Ministry of Health   \n",
       "1006     Karongi                E-Visa Service        Ministry of Health   \n",
       "1007  Nyarugenge        Digital Health Records    Immigration Department   \n",
       "1008     Rulindo               Irembo Services        Ministry of Health   \n",
       "1009    Bugesera                   eTax Portal         Ministry of Lands   \n",
       "1010     Karongi               Irembo Services         Ministry of Lands   \n",
       "1011    Kicukiro                E-Visa Service           Ministry of ICT   \n",
       "1012   Rwamagana                E-Visa Service         Ministry of Lands   \n",
       "1013    Bugesera                E-Visa Service         Ministry of Lands   \n",
       "1014      Nyanza      Land Registration Portal        Ministry of Health   \n",
       "1015      Rusizi        Digital Health Records         Ministry of Lands   \n",
       "1016      Rusizi        Digital Health Records         Ministry of Lands   \n",
       "1017     Kayonza               Irembo Services         Ministry of Lands   \n",
       "1018     Musanze                E-Visa Service        Ministry of Health   \n",
       "1019      Rubavu        Digital Health Records           Ministry of ICT   \n",
       "1020     Kayonza      Land Registration Portal  Rwanda Revenue Authority   \n",
       "1021   Nyagatare                E-Visa Service           Ministry of ICT   \n",
       "1022   Rwamagana               Irembo Services  Rwanda Revenue Authority   \n",
       "1023  Nyarugenge               Irembo Services        Ministry of Health   \n",
       "1024    Kicukiro                   eTax Portal        Ministry of Health   \n",
       "\n",
       "      Users_Reported  Satisfaction_Score_(%)  Year    Month  \n",
       "1000          2447.0                   68.20  2021      Mar  \n",
       "1001          1290.0                   99.70  2022      Jun  \n",
       "1002          2447.0                   69.50  2022  Unknown  \n",
       "1003          4458.0                   75.45  2024      Mar  \n",
       "1004          2447.0                   75.45  2023      Jul  \n",
       "1005          2447.0                   54.00  2021      Feb  \n",
       "1006          4855.0                   80.40  2022      Oct  \n",
       "1007          2447.0                   67.80  2021      Jul  \n",
       "1008          3980.0                   75.45  2023      Mar  \n",
       "1009          2447.0                   75.45  2022      Mar  \n",
       "1010          2447.0                   94.20  2022      Jun  \n",
       "1011           613.0                   75.45  2021      Mar  \n",
       "1012          4472.0                   53.50  2021      Oct  \n",
       "1013          2447.0                   75.45  2023      Mar  \n",
       "1014          2447.0                   75.45  2024      Aug  \n",
       "1015          2447.0                   79.00  2021  Unknown  \n",
       "1016          2447.0                   75.45  2023      Dec  \n",
       "1017          2447.0                   75.45  2023      Nov  \n",
       "1018          4856.0                   57.40  2024      Jun  \n",
       "1019          2447.0                   75.45  2021      Aug  \n",
       "1020          1115.0                   75.45  2022      Sep  \n",
       "1021          1009.0                   84.80  2023      Jan  \n",
       "1022          2447.0                   78.90  2024      May  \n",
       "1023           370.0                   75.45  2023      Oct  \n",
       "1024          2447.0                   77.00  2021      Nov  "
      ]
     },
     "execution_count": 17,
     "metadata": {},
     "output_type": "execute_result"
    }
   ],
   "source": [
    "df[df.duplicated()]"
   ]
  },
  {
   "cell_type": "code",
   "execution_count": 18,
   "metadata": {},
   "outputs": [],
   "source": [
    "# removing duplicates\n",
    "df.drop_duplicates(inplace=True)"
   ]
  },
  {
   "cell_type": "code",
   "execution_count": 19,
   "metadata": {},
   "outputs": [
    {
     "name": "stdout",
     "output_type": "stream",
     "text": [
      "0\n"
     ]
    }
   ],
   "source": [
    "print(df.duplicated().sum())"
   ]
  },
  {
   "cell_type": "markdown",
   "metadata": {},
   "source": [
    "We observe that the duplicated values have been removed"
   ]
  },
  {
   "cell_type": "code",
   "execution_count": 20,
   "metadata": {},
   "outputs": [
    {
     "name": "stdout",
     "output_type": "stream",
     "text": [
      "\n",
      "District unique values:\n",
      " ['Musanze' 'Gasabo' 'Rusizi' 'Nyagatare' 'Rubavu' 'Burera' 'Nyarugenge'\n",
      " 'Nyamagabe' 'Kicukiro' 'Huye' 'Nyanza' 'Rulindo' 'Rwamagana' 'Karongi'\n",
      " 'Musanze-' 'Gakenke' 'Bugesera' 'Ngoma' 'Kayonza' 'Nyamagabe-' 'Ngoma-'\n",
      " 'Huyex' 'Karongi-' 'Karongix' 'Bugeserax' 'Musanzex' 'Kicukirox'\n",
      " 'Nyanzax']\n",
      "\n",
      "Service_Name unique values:\n",
      " ['eTax Portal' 'Land Registration Portal' 'E-Visa Service'\n",
      " 'Digital Health Records' 'Online Business Registration' 'Irembo Services']\n",
      "\n",
      "Department unique values:\n",
      " ['Ministry of Health' 'Immigration Department' 'Rwanda Revenue Authority'\n",
      " 'Ministry of ICT' 'Ministry of Lands']\n",
      "\n",
      "Month unique values:\n",
      " ['Unknown' 'Dec' 'Mar' 'Jun' 'May' 'Aug' 'Apr' 'Sep' 'Feb' 'Jan' 'Nov'\n",
      " 'Jul' 'Oct']\n",
      "District                   object\n",
      "Service_Name               object\n",
      "Department                 object\n",
      "Users_Reported            float64\n",
      "Satisfaction_Score_(%)    float64\n",
      "Year                        int64\n",
      "Month                      object\n",
      "dtype: object\n"
     ]
    }
   ],
   "source": [
    "# Check unique values for categorical columns\n",
    "for col in df.select_dtypes(include='object'):\n",
    "    print(f\"\\n{col} unique values:\\n\", df[col].unique())\n",
    "\n",
    "# Check data types\n",
    "print(df.dtypes)"
   ]
  },
  {
   "cell_type": "markdown",
   "metadata": {},
   "source": [
    "We observe that District column has some District that typed wrong and in Department column too there there is no ministry of lands exists here in rwanda instead there is Ministry of environment and the national land authority which is in charge of land registrations and then in Month column I decided to make it full so that anyone can easly understand what that means. "
   ]
  },
  {
   "cell_type": "code",
   "execution_count": 21,
   "metadata": {},
   "outputs": [
    {
     "data": {
      "text/plain": [
       "array(['Musanze', 'Gasabo', 'Rusizi', 'Nyagatare', 'Rubavu', 'Burera',\n",
       "       'Nyarugenge', 'Nyamagabe', 'Kicukiro', 'Huye', 'Nyanza', 'Rulindo',\n",
       "       'Rwamagana', 'Karongi', 'Musanze-', 'Gakenke', 'Bugesera', 'Ngoma',\n",
       "       'Kayonza', 'Nyamagabe-', 'Ngoma-', 'Huyex', 'Karongi-', 'Karongix',\n",
       "       'Bugeserax', 'Musanzex', 'Kicukirox', 'Nyanzax'], dtype=object)"
      ]
     },
     "execution_count": 21,
     "metadata": {},
     "output_type": "execute_result"
    }
   ],
   "source": [
    "df['District'].unique()"
   ]
  },
  {
   "cell_type": "code",
   "execution_count": 22,
   "metadata": {},
   "outputs": [],
   "source": [
    "df.loc[:,'District'] = df['District'].replace({\n",
    "    'Musanze-': 'Musanze',\n",
    "    'Nyamagabe-': 'Nyamagabe',\n",
    "    'Ngoma-': 'Ngoma',\n",
    "    'Huyex': 'Huye',\n",
    "    'Karongi-': 'Karongi',\n",
    "    'Karongix': 'Karongi',\n",
    "    'Bugeserax': 'Bugesera',\n",
    "\n",
    "    'Musanzex': 'Musanze',\n",
    "    'Kicukirox': 'Kicukiro',\n",
    "    'Nyanzax': 'Nyanza',\n",
    "})"
   ]
  },
  {
   "cell_type": "code",
   "execution_count": 23,
   "metadata": {},
   "outputs": [
    {
     "data": {
      "text/plain": [
       "array(['Musanze', 'Gasabo', 'Rusizi', 'Nyagatare', 'Rubavu', 'Burera',\n",
       "       'Nyarugenge', 'Nyamagabe', 'Kicukiro', 'Huye', 'Nyanza', 'Rulindo',\n",
       "       'Rwamagana', 'Karongi', 'Gakenke', 'Bugesera', 'Ngoma', 'Kayonza'],\n",
       "      dtype=object)"
      ]
     },
     "execution_count": 23,
     "metadata": {},
     "output_type": "execute_result"
    }
   ],
   "source": [
    "df['District'].unique()"
   ]
  },
  {
   "cell_type": "code",
   "execution_count": 24,
   "metadata": {},
   "outputs": [],
   "source": [
    "df.loc[:,'Department'] = df['Department'].replace({\n",
    "    'Ministry of Lands': 'National Land Authority',\n",
    "})"
   ]
  },
  {
   "cell_type": "code",
   "execution_count": 25,
   "metadata": {},
   "outputs": [
    {
     "data": {
      "text/plain": [
       "array(['Ministry of Health', 'Immigration Department',\n",
       "       'Rwanda Revenue Authority', 'Ministry of ICT',\n",
       "       'National Land Authority'], dtype=object)"
      ]
     },
     "execution_count": 25,
     "metadata": {},
     "output_type": "execute_result"
    }
   ],
   "source": [
    "df['Department'].unique()"
   ]
  },
  {
   "cell_type": "code",
   "execution_count": 26,
   "metadata": {},
   "outputs": [],
   "source": [
    "df.loc[:,'Month'] = df['Month'].map({\n",
    "    \n",
    "    'Unknown' :'Unknown',\n",
    "    'Dec' :'December',\n",
    "    'Mar' :'March',\n",
    "    'Jun' :'June',\n",
    "    'May' :'May',\n",
    "    'Aug' :'August',\n",
    "    'Apr' :'April',\n",
    "    'Sep' :'September',\n",
    "    'Feb' :'February',\n",
    "    'Jan' :'January',\n",
    "    'Nov' :'November',\n",
    "    'Jul' :'July',\n",
    "    'Oct' :'October',\n",
    "})"
   ]
  },
  {
   "cell_type": "code",
   "execution_count": 28,
   "metadata": {},
   "outputs": [
    {
     "data": {
      "text/plain": [
       "array(['Unknown', 'December', 'March', 'June', 'May', 'August', 'April',\n",
       "       'September', 'February', 'January', 'November', 'July', 'October'],\n",
       "      dtype=object)"
      ]
     },
     "execution_count": 28,
     "metadata": {},
     "output_type": "execute_result"
    }
   ],
   "source": [
    "df['Month'].unique()"
   ]
  },
  {
   "cell_type": "code",
   "execution_count": 29,
   "metadata": {},
   "outputs": [
    {
     "data": {
      "text/html": [
       "<div>\n",
       "<style scoped>\n",
       "    .dataframe tbody tr th:only-of-type {\n",
       "        vertical-align: middle;\n",
       "    }\n",
       "\n",
       "    .dataframe tbody tr th {\n",
       "        vertical-align: top;\n",
       "    }\n",
       "\n",
       "    .dataframe thead th {\n",
       "        text-align: right;\n",
       "    }\n",
       "</style>\n",
       "<table border=\"1\" class=\"dataframe\">\n",
       "  <thead>\n",
       "    <tr style=\"text-align: right;\">\n",
       "      <th></th>\n",
       "      <th>District</th>\n",
       "      <th>Service_Name</th>\n",
       "      <th>Department</th>\n",
       "      <th>Users_Reported</th>\n",
       "      <th>Satisfaction_Score_(%)</th>\n",
       "      <th>Year</th>\n",
       "      <th>Month</th>\n",
       "    </tr>\n",
       "  </thead>\n",
       "  <tbody>\n",
       "    <tr>\n",
       "      <th>0</th>\n",
       "      <td>Musanze</td>\n",
       "      <td>eTax Portal</td>\n",
       "      <td>Ministry of Health</td>\n",
       "      <td>910.0</td>\n",
       "      <td>75.45</td>\n",
       "      <td>2022</td>\n",
       "      <td>Unknown</td>\n",
       "    </tr>\n",
       "    <tr>\n",
       "      <th>1</th>\n",
       "      <td>Gasabo</td>\n",
       "      <td>Land Registration Portal</td>\n",
       "      <td>Immigration Department</td>\n",
       "      <td>3822.0</td>\n",
       "      <td>93.60</td>\n",
       "      <td>2023</td>\n",
       "      <td>December</td>\n",
       "    </tr>\n",
       "    <tr>\n",
       "      <th>2</th>\n",
       "      <td>Rusizi</td>\n",
       "      <td>eTax Portal</td>\n",
       "      <td>Rwanda Revenue Authority</td>\n",
       "      <td>516.0</td>\n",
       "      <td>82.90</td>\n",
       "      <td>2024</td>\n",
       "      <td>March</td>\n",
       "    </tr>\n",
       "    <tr>\n",
       "      <th>3</th>\n",
       "      <td>Nyagatare</td>\n",
       "      <td>E-Visa Service</td>\n",
       "      <td>Ministry of ICT</td>\n",
       "      <td>4476.0</td>\n",
       "      <td>75.45</td>\n",
       "      <td>2024</td>\n",
       "      <td>June</td>\n",
       "    </tr>\n",
       "    <tr>\n",
       "      <th>4</th>\n",
       "      <td>Nyagatare</td>\n",
       "      <td>Digital Health Records</td>\n",
       "      <td>Rwanda Revenue Authority</td>\n",
       "      <td>2447.0</td>\n",
       "      <td>75.45</td>\n",
       "      <td>2023</td>\n",
       "      <td>May</td>\n",
       "    </tr>\n",
       "  </tbody>\n",
       "</table>\n",
       "</div>"
      ],
      "text/plain": [
       "    District              Service_Name                Department  \\\n",
       "0    Musanze               eTax Portal        Ministry of Health   \n",
       "1     Gasabo  Land Registration Portal    Immigration Department   \n",
       "2     Rusizi               eTax Portal  Rwanda Revenue Authority   \n",
       "3  Nyagatare            E-Visa Service           Ministry of ICT   \n",
       "4  Nyagatare    Digital Health Records  Rwanda Revenue Authority   \n",
       "\n",
       "   Users_Reported  Satisfaction_Score_(%)  Year     Month  \n",
       "0           910.0                   75.45  2022   Unknown  \n",
       "1          3822.0                   93.60  2023  December  \n",
       "2           516.0                   82.90  2024     March  \n",
       "3          4476.0                   75.45  2024      June  \n",
       "4          2447.0                   75.45  2023       May  "
      ]
     },
     "execution_count": 29,
     "metadata": {},
     "output_type": "execute_result"
    }
   ],
   "source": [
    "df.head()"
   ]
  },
  {
   "cell_type": "code",
   "execution_count": 30,
   "metadata": {},
   "outputs": [],
   "source": [
    "# Save to CSV in the same folder as the notebook\n",
    "df.to_csv(\"DigitalServiceUsage_Rwanda_cleaned_Dataset.csv\", index=False)"
   ]
  },
  {
   "cell_type": "code",
   "execution_count": null,
   "metadata": {},
   "outputs": [],
   "source": []
  }
 ],
 "metadata": {
  "kaggle": {
   "accelerator": "none",
   "dataSources": [
    {
     "datasetId": 8583891,
     "sourceId": 13519239,
     "sourceType": "datasetVersion"
    }
   ],
   "dockerImageVersionId": 31153,
   "isGpuEnabled": false,
   "isInternetEnabled": true,
   "language": "python",
   "sourceType": "notebook"
  },
  "kernelspec": {
   "display_name": "Python 3 (ipykernel)",
   "language": "python",
   "name": "python3"
  },
  "language_info": {
   "codemirror_mode": {
    "name": "ipython",
    "version": 3
   },
   "file_extension": ".py",
   "mimetype": "text/x-python",
   "name": "python",
   "nbconvert_exporter": "python",
   "pygments_lexer": "ipython3",
   "version": "3.11.7"
  }
 },
 "nbformat": 4,
 "nbformat_minor": 4
}
